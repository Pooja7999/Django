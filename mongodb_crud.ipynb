{
 "cells": [
  {
   "cell_type": "code",
   "execution_count": 7,
   "id": "1c4d248e",
   "metadata": {},
   "outputs": [
    {
     "name": "stdout",
     "output_type": "stream",
     "text": [
      "Defaulting to user installation because normal site-packages is not writeable\n",
      "Requirement already satisfied: pymongo in c:\\users\\lenovo\\appdata\\roaming\\python\\python310\\site-packages (4.5.0)\n",
      "Requirement already satisfied: dnspython<3.0.0,>=1.16.0 in c:\\users\\lenovo\\appdata\\roaming\\python\\python310\\site-packages (from pymongo) (2.4.2)\n"
     ]
    }
   ],
   "source": [
    "!pip install pymongo"
   ]
  },
  {
   "cell_type": "code",
   "execution_count": 20,
   "id": "0b5a0c77",
   "metadata": {},
   "outputs": [],
   "source": [
    "# import pymongo\n",
    "from pymongo import MongoClient\n",
    "import pandas as pd\n",
    "import json\n",
    "import csv\n",
    "\n",
    "\n",
    "\n"
   ]
  },
  {
   "cell_type": "code",
   "execution_count": 21,
   "id": "0628ec08",
   "metadata": {},
   "outputs": [
    {
     "name": "stdout",
     "output_type": "stream",
     "text": [
      "client: MongoClient(host=['localhost:27017'], document_class=dict, tz_aware=False, connect=True)\n"
     ]
    }
   ],
   "source": [
    "connection_url =\"mongodb://localhost:27017\"\n",
    "\n",
    "client = pymongo.MongoClient(connection_url)\n",
    "\n",
    "print(\"client:\", client)"
   ]
  },
  {
   "cell_type": "code",
   "execution_count": 10,
   "id": "e65cadc1",
   "metadata": {},
   "outputs": [],
   "source": [
    "database_name =\"nylp_data\"\n",
    "nylp_db= client[database_name]"
   ]
  },
  {
   "cell_type": "code",
   "execution_count": 13,
   "id": "08e72c88",
   "metadata": {},
   "outputs": [],
   "source": [
    "collection_name = \"nylp_details\"\n",
    "collection = nylp_db[collection_name]"
   ]
  },
  {
   "cell_type": "code",
   "execution_count": 19,
   "id": "67b8a6d8",
   "metadata": {},
   "outputs": [
    {
     "name": "stdout",
     "output_type": "stream",
     "text": [
      "collection:  ['nylp_details']\n"
     ]
    }
   ],
   "source": [
    "print(\"collection: \", nylp_db.list_collection_names())"
   ]
  },
  {
   "cell_type": "code",
   "execution_count": 23,
   "id": "5d92489d",
   "metadata": {},
   "outputs": [],
   "source": [
    "data =pd.read_csv(\"NYLP.csv\")"
   ]
  },
  {
   "cell_type": "code",
   "execution_count": 24,
   "id": "d35e9731",
   "metadata": {},
   "outputs": [
    {
     "data": {
      "text/html": [
       "<div>\n",
       "<style scoped>\n",
       "    .dataframe tbody tr th:only-of-type {\n",
       "        vertical-align: middle;\n",
       "    }\n",
       "\n",
       "    .dataframe tbody tr th {\n",
       "        vertical-align: top;\n",
       "    }\n",
       "\n",
       "    .dataframe thead th {\n",
       "        text-align: right;\n",
       "    }\n",
       "</style>\n",
       "<table border=\"1\" class=\"dataframe\">\n",
       "  <thead>\n",
       "    <tr style=\"text-align: right;\">\n",
       "      <th></th>\n",
       "      <th>Financial Year</th>\n",
       "      <th>Number of Events Conducted</th>\n",
       "      <th>Number of Participants</th>\n",
       "      <th>Grants received (In Crores)</th>\n",
       "    </tr>\n",
       "  </thead>\n",
       "  <tbody>\n",
       "    <tr>\n",
       "      <th>0</th>\n",
       "      <td>2014-15</td>\n",
       "      <td>4640</td>\n",
       "      <td>371200</td>\n",
       "      <td>12.21</td>\n",
       "    </tr>\n",
       "    <tr>\n",
       "      <th>1</th>\n",
       "      <td>2015-16</td>\n",
       "      <td>3305</td>\n",
       "      <td>244634</td>\n",
       "      <td>42.94</td>\n",
       "    </tr>\n",
       "    <tr>\n",
       "      <th>2</th>\n",
       "      <td>2016-17</td>\n",
       "      <td>9530</td>\n",
       "      <td>749307</td>\n",
       "      <td>16.71</td>\n",
       "    </tr>\n",
       "    <tr>\n",
       "      <th>3</th>\n",
       "      <td>2017-18</td>\n",
       "      <td>4788</td>\n",
       "      <td>558304</td>\n",
       "      <td>10.52</td>\n",
       "    </tr>\n",
       "    <tr>\n",
       "      <th>4</th>\n",
       "      <td>2018-19</td>\n",
       "      <td>5498</td>\n",
       "      <td>588139</td>\n",
       "      <td>7.14</td>\n",
       "    </tr>\n",
       "  </tbody>\n",
       "</table>\n",
       "</div>"
      ],
      "text/plain": [
       "  Financial Year  Number of Events Conducted  Number of Participants  \\\n",
       "0        2014-15                        4640                  371200   \n",
       "1        2015-16                        3305                  244634   \n",
       "2        2016-17                        9530                  749307   \n",
       "3        2017-18                        4788                  558304   \n",
       "4        2018-19                        5498                  588139   \n",
       "\n",
       "   Grants received (In Crores)  \n",
       "0                        12.21  \n",
       "1                        42.94  \n",
       "2                        16.71  \n",
       "3                        10.52  \n",
       "4                         7.14  "
      ]
     },
     "execution_count": 24,
     "metadata": {},
     "output_type": "execute_result"
    }
   ],
   "source": [
    "data.head()"
   ]
  },
  {
   "cell_type": "code",
   "execution_count": 26,
   "id": "9cf2f04f",
   "metadata": {},
   "outputs": [],
   "source": [
    "data_dict = data.to_dict(\"records\")"
   ]
  },
  {
   "cell_type": "code",
   "execution_count": 27,
   "id": "c57aac4b",
   "metadata": {},
   "outputs": [
    {
     "data": {
      "text/plain": [
       "[{'Financial Year': '2014-15',\n",
       "  'Number of Events Conducted': 4640,\n",
       "  'Number of Participants': 371200,\n",
       "  'Grants received (In Crores)': 12.21},\n",
       " {'Financial Year': '2015-16',\n",
       "  'Number of Events Conducted': 3305,\n",
       "  'Number of Participants': 244634,\n",
       "  'Grants received (In Crores)': 42.94},\n",
       " {'Financial Year': '2016-17',\n",
       "  'Number of Events Conducted': 9530,\n",
       "  'Number of Participants': 749307,\n",
       "  'Grants received (In Crores)': 16.71},\n",
       " {'Financial Year': '2017-18',\n",
       "  'Number of Events Conducted': 4788,\n",
       "  'Number of Participants': 558304,\n",
       "  'Grants received (In Crores)': 10.52},\n",
       " {'Financial Year': '2018-19',\n",
       "  'Number of Events Conducted': 5498,\n",
       "  'Number of Participants': 588139,\n",
       "  'Grants received (In Crores)': 7.14},\n",
       " {'Financial Year': '2019-20',\n",
       "  'Number of Events Conducted': 8084,\n",
       "  'Number of Participants': 694730,\n",
       "  'Grants received (In Crores)': 9.78},\n",
       " {'Financial Year': '2020-21',\n",
       "  'Number of Events Conducted': 1954,\n",
       "  'Number of Participants': 156320,\n",
       "  'Grants received (In Crores)': 1.75},\n",
       " {'Financial Year': '2021-22',\n",
       "  'Number of Events Conducted': 481,\n",
       "  'Number of Participants': 313192,\n",
       "  'Grants received (In Crores)': 7.29},\n",
       " {'Financial Year': '2022-23',\n",
       "  'Number of Events Conducted': 672,\n",
       "  'Number of Participants': 428158,\n",
       "  'Grants received (In Crores)': 10.56}]"
      ]
     },
     "execution_count": 27,
     "metadata": {},
     "output_type": "execute_result"
    }
   ],
   "source": [
    "data_dict"
   ]
  },
  {
   "cell_type": "code",
   "execution_count": 32,
   "id": "e4d40dcd",
   "metadata": {},
   "outputs": [
    {
     "data": {
      "text/plain": [
       "<pymongo.results.InsertManyResult at 0x1e91cc6b130>"
      ]
     },
     "execution_count": 32,
     "metadata": {},
     "output_type": "execute_result"
    }
   ],
   "source": [
    "nylp_db.nylp_details.insert_many(data_dict)"
   ]
  },
  {
   "cell_type": "code",
   "execution_count": 35,
   "id": "3dbd4ec3",
   "metadata": {},
   "outputs": [
    {
     "data": {
      "text/plain": [
       "(9, 4)"
      ]
     },
     "execution_count": 35,
     "metadata": {},
     "output_type": "execute_result"
    }
   ],
   "source": [
    "data.shape"
   ]
  },
  {
   "cell_type": "code",
   "execution_count": null,
   "id": "cabd11ca",
   "metadata": {},
   "outputs": [],
   "source": []
  },
  {
   "cell_type": "code",
   "execution_count": null,
   "id": "a665fae0",
   "metadata": {},
   "outputs": [],
   "source": []
  }
 ],
 "metadata": {
  "kernelspec": {
   "display_name": "Python 3 (ipykernel)",
   "language": "python",
   "name": "python3"
  },
  "language_info": {
   "codemirror_mode": {
    "name": "ipython",
    "version": 3
   },
   "file_extension": ".py",
   "mimetype": "text/x-python",
   "name": "python",
   "nbconvert_exporter": "python",
   "pygments_lexer": "ipython3",
   "version": "3.10.9"
  }
 },
 "nbformat": 4,
 "nbformat_minor": 5
}
